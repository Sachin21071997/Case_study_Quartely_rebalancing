{
 "cells": [
  {
   "cell_type": "code",
   "execution_count": 1,
   "metadata": {},
   "outputs": [],
   "source": [
    "import numpy as np                                        # importing necessary libraries\n",
    "import math\n",
    "import pandas as pd\n",
    "from matplotlib import pyplot as plt\n",
    "import matplotlib\n",
    "import datetime\n",
    "from IPython.display import set_matplotlib_formats\n",
    "%matplotlib inline"
   ]
  },
  {
   "cell_type": "code",
   "execution_count": 2,
   "metadata": {},
   "outputs": [],
   "source": [
    "df = pd.read_excel(\"InputData.xlsx\")   # Reading the Data"
   ]
  },
  {
   "cell_type": "code",
   "execution_count": null,
   "metadata": {},
   "outputs": [],
   "source": [
    "IE = 100000                          # Initial Equity ( Assumed to be 100k)\n",
    "E_GE = IE/4                          # distributing equal dollars to all the asset classes\n",
    "E_HF = IE/4\n",
    "E_RP = IE/4\n",
    "E_TF = IE/4\n"
   ]
  },
  {
   "cell_type": "code",
   "execution_count": null,
   "metadata": {},
   "outputs": [],
   "source": [
    "df['GE'] = np.exp(df['Global Equities'])*E_GE # using log(today/previous) definintion of return and then evaluating value of all asset classes after incorporating return \n",
    "df['HF'] = np.exp(df['Hedge Funds'])*E_HF     \n",
    "df['RP'] = np.exp(df['Risk Premia'])*E_RP\n",
    "df['TF'] = np.exp(df['Trend Following'])*E_TF"
   ]
  },
  {
   "cell_type": "code",
   "execution_count": null,
   "metadata": {},
   "outputs": [],
   "source": [
    "for i in range(1,len(df)):                     # applying a loop over the length of dataframe and updating the values (eg 100 as initial value ( 3percent return make it 103 and the 5percent return in next month make it 108.15)\n",
    "    df['GE'][i] = np.exp(df['Global Equities'][i])*df['GE'][i-1]     \n",
    "    df['HF'][i] = np.exp(df['Hedge Funds'][i])*df['HF'][i-1]\n",
    "    df['RP'][i] = np.exp(df['Risk Premia'][i])*df['RP'][i-1]\n",
    "    df['TF'][i] = np.exp(df['Trend Following'][i])*df['TF'][i-1]"
   ]
  },
  {
   "cell_type": "code",
   "execution_count": null,
   "metadata": {},
   "outputs": [],
   "source": [
    "df['PV'] = df['GE'] + df['HF'] + df['RP'] + df['TF']  # Portfolio Value\n",
    "df['Date'] = df['Date'].astype('datetime64[ns]')    # conversion of Date to datetime format\n",
    "df['month'] = df['Date'].dt.month                   \n"
   ]
  },
  {
   "cell_type": "code",
   "execution_count": null,
   "metadata": {},
   "outputs": [],
   "source": [
    "q =  np.array([3,6,9,12])  # array for storing the quarter months\n",
    "\n"
   ]
  },
  {
   "cell_type": "code",
   "execution_count": null,
   "metadata": {},
   "outputs": [],
   "source": [
    "def quartely_rebalancing(df):\n",
    "    p=0\n",
    "    for index, row in df.iterrows():                 # Quartely Rebalancing\n",
    "        if (p==len(df)-1):                           \n",
    "            break\n",
    "        if(df['month'][p] in q):\n",
    "            IE=df['PV'][p]\n",
    "            E_GE = IE/4\n",
    "            E_HF = IE/4\n",
    "            E_RP = IE/4\n",
    "            E_TF = IE/4\n",
    "            df['GE'][p+1] = np.exp(df['Global Equities'][p+1])*E_GE\n",
    "            df['HF'][p+1] = np.exp(df['Hedge Funds'][p+1])*E_HF\n",
    "            df['RP'][p+1] = np.exp(df['Risk Premia'][p+1])*E_RP\n",
    "            df['TF'][p+1] = np.exp(df['Trend Following'][p+1])*E_TF\n",
    "            for i in range(2,4):\n",
    "                df['GE'][p+i] = np.exp(df['Global Equities'][p+i])*df['GE'][p+(i-1)]\n",
    "                df['HF'][p+i] = np.exp(df['Hedge Funds'][p+i])*df['HF'][p+(i-1)]\n",
    "                df['RP'][p+i] = np.exp(df['Risk Premia'][p+i])*df['RP'][p+(i-1)]\n",
    "                df['TF'][p+i] = np.exp(df['Trend Following'][p+i])*df['TF'][p+(i-1)]\n",
    "            for i in range(1,4):\n",
    "                df['PV'][p+i] = df['GE'][p+i] + df['HF'][p+i] + df['RP'][p+i] + df['TF'][p+i]\n",
    "                \n",
    "        p=p+1\n",
    "    \n",
    "    return df\n",
    "            \n",
    "            "
   ]
  },
  {
   "cell_type": "code",
   "execution_count": null,
   "metadata": {},
   "outputs": [],
   "source": [
    "asset_balance = quartely_rebalancing(df) # dataframe which stores quartely rebalanced portfolio values"
   ]
  },
  {
   "cell_type": "code",
   "execution_count": null,
   "metadata": {},
   "outputs": [],
   "source": [
    "asset_balance['Portfolio Return'] = np.log(asset_balance['PV']/asset_balance['PV'].shift(1)) # computing portfolio return"
   ]
  },
  {
   "cell_type": "code",
   "execution_count": null,
   "metadata": {},
   "outputs": [],
   "source": [
    "def portfolio_statistics(df):\n",
    "    annualised_geometric_port_return = np.prod(df['Portfolio Return'] + 1) **(12/df['Portfolio Return'].shape[0]) - 1\n",
    "    annual_std = np.std(df['Portfolio Return']) * np.sqrt(12)  \n",
    "    port_sharpe_ratio = annualised_geometric_port_return / annual_std\n",
    "    return annualised_geometric_port_return,annual_std,port_sharpe_ratio\n",
    "    "
   ]
  },
  {
   "cell_type": "code",
   "execution_count": null,
   "metadata": {},
   "outputs": [],
   "source": [
    "annualised_geometric_port_return,annual_std,port_sharpe_ratio = portfolio_statistics(asset_balance)"
   ]
  },
  {
   "cell_type": "code",
   "execution_count": null,
   "metadata": {},
   "outputs": [],
   "source": [
    "print(\"value of annualized return is \"+\"{:.2%}\".format(annualised_geometric_port_return));\n",
    "print(\"value of annualized standard deviation is \"+\"{:.2%}\".format(annual_std));\n",
    "print(\"value of sharpe ratio is %f  \"%port_sharpe_ratio)\n"
   ]
  },
  {
   "cell_type": "code",
   "execution_count": null,
   "metadata": {},
   "outputs": [],
   "source": [
    "def cummalative_ret(asset_balance):\n",
    "    cumulative_ret = (asset_balance['Portfolio Return'] + 1).cumprod()\n",
    "    date = asset_balance['Date']\n",
    "    plt.plot(date,cumulative_ret)\n",
    "    plt.xlabel('Date')\n",
    "    plt.ylabel(\"Cumulative Returns\")\n",
    "    plt.title(\"Portfolio Cumulative Returns\")\n",
    "    plt.savefig('Portfolio Cumulative Returns.png')\n",
    "    plt.show();\n",
    "    "
   ]
  },
  {
   "cell_type": "code",
   "execution_count": null,
   "metadata": {},
   "outputs": [],
   "source": [
    "cummalative_ret(asset_balance)"
   ]
  },
  {
   "cell_type": "code",
   "execution_count": null,
   "metadata": {},
   "outputs": [],
   "source": [
    "def portfolio_performance(asset_balance):\n",
    "    asset_balance_2020 = asset_balance.loc[asset_balance['Date'].dt.year==2020] # Dataframe for 2020 YTD\n",
    "    asset_balance_last_one_year = asset_balance.set_index('Date').last('12M')  # Dataframe for last one year\n",
    "    asset_balance_last_three_year = asset_balance.set_index('Date').last('36M') # Dataframe for last three years\n",
    "    asset_balance_2020=asset_balance_2020.drop(['Global Equities', 'Hedge Funds','Risk Premia', 'Trend Following','month','Risk Free Returns','Portfolio Return'], axis=1)\n",
    "    asset_balance_last_one_year=asset_balance_last_one_year.drop(['Global Equities', 'Hedge Funds','Risk Premia', 'Trend Following','month','Risk Free Returns','Portfolio Return'], axis=1)\n",
    "    asset_balance_last_three_year=asset_balance_last_three_year.drop(['Global Equities', 'Hedge Funds','Risk Premia', 'Trend Following','month','Risk Free Returns','Portfolio Return'], axis=1)\n",
    "    return asset_balance_2020,asset_balance_last_one_year,asset_balance_last_three_year"
   ]
  },
  {
   "cell_type": "code",
   "execution_count": null,
   "metadata": {},
   "outputs": [],
   "source": [
    "asset_balance_2020,asset_balance_last_one_year,asset_balance_last_three_year=portfolio_performance(asset_balance)"
   ]
  },
  {
   "cell_type": "code",
   "execution_count": null,
   "metadata": {},
   "outputs": [],
   "source": [
    "# contribution of different asset classes in 2020YTD, last one year and last three year\n",
    "def contribution_asset_classes(asset_balance):\n",
    "    sum_asset = asset_balance.sum(axis = 0, skipna = True)\n",
    "    net_contribution = [sum_asset[0],sum_asset[1],sum_asset[2],sum_asset[3]]\n",
    "    arry_storing = [sum_asset[0]/sum_asset[4],sum_asset[1]/sum_asset[4],sum_asset[2]/sum_asset[4],sum_asset[3]/sum_asset[4]]\n",
    "    return arry_storing, net_contribution"
   ]
  },
  {
   "cell_type": "code",
   "execution_count": null,
   "metadata": {},
   "outputs": [],
   "source": [
    "proportion_asset_classes_2020,net_contribution_asset_classes_2020= contribution_asset_classes(asset_balance_2020)\n",
    "print(\"Contribution of Global Equities in 2020 is \"+\"{:.2%}\".format(proportion_asset_classes_2020[0]))\n",
    "print(\"Contribution of Hedge Funds in 2020 is \"+\"{:.2%}\".format(proportion_asset_classes_2020[1]))\n",
    "print(\"Contribution of Risk Premia in 2020 is \"+\"{:.2%}\".format(proportion_asset_classes_2020[2]))\n",
    "print(\"Contribution of Trend Following in 2020 is \"+\"{:.2%}\".format(proportion_asset_classes_2020[3]))"
   ]
  },
  {
   "cell_type": "code",
   "execution_count": null,
   "metadata": {
    "scrolled": true
   },
   "outputs": [],
   "source": [
    "proportion_asset_classes_last_one_year,net_contribution_asset_classes_last_one_year= contribution_asset_classes(asset_balance_last_one_year)\n",
    "print(\"Contribution of Global Equities in last one year is \"+\"{:.2%}\".format(proportion_asset_classes_last_one_year[0]))\n",
    "print(\"Contribution of Hedge Funds in last one year is \"+\"{:.2%}\".format(proportion_asset_classes_last_one_year[1]))\n",
    "print(\"Contribution of Risk Premia in last one year is \"+\"{:.2%}\".format(proportion_asset_classes_last_one_year[2]))\n",
    "print(\"Contribution of Trend Following in last one year is \"+\"{:.2%}\".format(proportion_asset_classes_last_one_year[3]))"
   ]
  },
  {
   "cell_type": "code",
   "execution_count": null,
   "metadata": {},
   "outputs": [],
   "source": [
    "proportion_asset_classes_last_three_year,net_contribution_asset_classes_last_three_year= contribution_asset_classes(asset_balance_last_three_year)\n",
    "print(\"Contribution of Global Equities in last three year is \"+\"{:.2%}\".format(proportion_asset_classes_last_three_year[0]))\n",
    "print(\"Contribution of Hedge Funds in last three year is \"+\"{:.2%}\".format(proportion_asset_classes_last_three_year[1]))\n",
    "print(\"Contribution of Risk Premia in last three year is \"+\"{:.2%}\".format(proportion_asset_classes_last_three_year[2]))\n",
    "print(\"Contribution of Trend Following in last three year is \"+\"{:.2%}\".format(proportion_asset_classes_last_three_year[3]))\n"
   ]
  },
  {
   "cell_type": "code",
   "execution_count": null,
   "metadata": {},
   "outputs": [],
   "source": [
    "asset_balance = asset_balance.drop(['month'],axis=1)\n",
    "asset_balance.to_csv('portfolio_log_.csv')"
   ]
  },
  {
   "cell_type": "code",
   "execution_count": null,
   "metadata": {},
   "outputs": [],
   "source": [
    "#### Improving the construction of portfolio"
   ]
  },
  {
   "cell_type": "code",
   "execution_count": 3,
   "metadata": {},
   "outputs": [],
   "source": [
    "optim_port = pd.read_excel(\"InputData.xlsx\") # Inputing the data again"
   ]
  },
  {
   "cell_type": "code",
   "execution_count": 4,
   "metadata": {},
   "outputs": [],
   "source": [
    "optim_port= optim_port.drop(['Risk Free Returns','Date'],axis=1) "
   ]
  },
  {
   "cell_type": "code",
   "execution_count": 6,
   "metadata": {},
   "outputs": [],
   "source": [
    "mean_daily_returns = optim_port.mean() # finding mean monthly returns and covariance matrix\n",
    "cov_matrix = optim_port.cov()         "
   ]
  },
  {
   "cell_type": "code",
   "execution_count": 9,
   "metadata": {},
   "outputs": [],
   "source": [
    "M = mean_daily_returns.to_numpy()"
   ]
  },
  {
   "cell_type": "code",
   "execution_count": 12,
   "metadata": {},
   "outputs": [],
   "source": [
    "MT = M.reshape((M.shape[0], 1))"
   ]
  },
  {
   "cell_type": "code",
   "execution_count": null,
   "metadata": {},
   "outputs": [],
   "source": [
    "M = mean_daily_returns.to_numpy()  # Applying sharpe theory of portfolio optimization and evaluating necessary terms\n",
    "MT = M.reshape((M.shape[0], 1))\n",
    "MT = MT * 12  # conversion to annualized returns\n",
    "#MT.shape\n",
    "M = MT.T\n",
    "#M.shape\n",
    "o = np.ones((1,4), dtype = int)\n",
    "#o.shape\n",
    "cov = cov_matrix \n",
    "cov = np.asarray(cov)\n",
    "#cov.shape\n",
    "cov_in = np.linalg.inv(cov)"
   ]
  },
  {
   "cell_type": "code",
   "execution_count": null,
   "metadata": {},
   "outputs": [],
   "source": [
    "u_rf = df['Risk Free Returns'].mean()*12        # annualized risk free returns\n"
   ]
  },
  {
   "cell_type": "code",
   "execution_count": null,
   "metadata": {},
   "outputs": [],
   "source": [
    "W1_num = np.dot((M-np.dot(u_rf,o)),cov_in)\n",
    "W1_den = np.dot((M-np.dot(u_rf,o)),np.dot(cov_in,o.T))  # W1* (optimized matrix of weights (w/w_risky) )\n",
    "W1 = W1_num/W1_den"
   ]
  },
  {
   "cell_type": "code",
   "execution_count": null,
   "metadata": {},
   "outputs": [],
   "source": [
    "u_der = np.dot(M,W1.T)\n",
    "u_der.shape\n",
    "sigma_square  = np.dot(W1,np.dot(cov,W1.T)) * 12\n",
    "sigma_der = np.sqrt(sigma_square)\n",
    "sigma_der.shape\n",
    "s = (u_der - u_rf)/(sigma_der)\n",
    "u = u_rf + s*np.sqrt(sigma_square)"
   ]
  },
  {
   "cell_type": "code",
   "execution_count": null,
   "metadata": {},
   "outputs": [],
   "source": [
    "point1 = [0, sigma_der[0][0]]\n",
    "point2 = [u_rf, u_der[0][0]]\n",
    "plt.plot(point1, point2, label = \"line 1\")\n",
    "plt.xlabel('Systematic Risk')\n",
    "plt.ylabel(\" Expected Return\")\n",
    "plt.title(\"Capital Market Line\")\n",
    "plt.savefig('Capital Market Line.png')"
   ]
  },
  {
   "cell_type": "code",
   "execution_count": null,
   "metadata": {},
   "outputs": [],
   "source": [
    "print(\"The relation between return and risk is : u = %r*sigma + %r  \"%(s[0][0],u_rf))"
   ]
  },
  {
   "cell_type": "code",
   "execution_count": null,
   "metadata": {},
   "outputs": [],
   "source": [
    "# using the above obtained relation and assuming proportion of risk-free assets in our portfolio we can get optimized weights  "
   ]
  }
 ],
 "metadata": {
  "kernelspec": {
   "display_name": "Python 3",
   "language": "python",
   "name": "python3"
  },
  "language_info": {
   "codemirror_mode": {
    "name": "ipython",
    "version": 3
   },
   "file_extension": ".py",
   "mimetype": "text/x-python",
   "name": "python",
   "nbconvert_exporter": "python",
   "pygments_lexer": "ipython3",
   "version": "3.7.4"
  }
 },
 "nbformat": 4,
 "nbformat_minor": 2
}
